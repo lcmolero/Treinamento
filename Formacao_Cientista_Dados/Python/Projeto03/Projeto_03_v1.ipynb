{
 "cells": [
  {
   "cell_type": "markdown",
   "metadata": {},
   "source": [
    "# Formação Cientista de Dados - DSA"
   ]
  },
  {
   "cell_type": "markdown",
   "metadata": {},
   "source": [
    "## Projeto com Feedback 3 - Prevendo o Nível de Satisfação dos Clientes do Santander"
   ]
  },
  {
   "cell_type": "markdown",
   "metadata": {},
   "source": [
    "### Leonardo Molero"
   ]
  },
  {
   "cell_type": "code",
   "execution_count": null,
   "metadata": {},
   "outputs": [],
   "source": [
    "# importando pacotes iniciais\n",
    "import pandas as pd\n",
    "import numpy as np\n",
    "import matplotlib.pyplot as plt\n",
    "%matplotlib inline"
   ]
  },
  {
   "cell_type": "code",
   "execution_count": null,
   "metadata": {},
   "outputs": [],
   "source": [
    "# carregando o dados de treino\n",
    "df = pd.read_csv('dados/train.csv',index_col='ID')"
   ]
  },
  {
   "cell_type": "code",
   "execution_count": null,
   "metadata": {},
   "outputs": [],
   "source": [
    "# checa o tamanho do dataframe\n",
    "print(df.shape)"
   ]
  },
  {
   "cell_type": "code",
   "execution_count": null,
   "metadata": {},
   "outputs": [],
   "source": [
    "# visualiza os dados treino\n",
    "df.head(10)"
   ]
  },
  {
   "cell_type": "code",
   "execution_count": null,
   "metadata": {},
   "outputs": [],
   "source": [
    "# verifica os tipos das colunas\n",
    "df.dtypes"
   ]
  },
  {
   "cell_type": "code",
   "execution_count": null,
   "metadata": {},
   "outputs": [],
   "source": [
    "# verifica os tipos de colunas agrupados (devido a quantidade de colunas)\n",
    "df.dtypes.value_counts()"
   ]
  },
  {
   "cell_type": "code",
   "execution_count": null,
   "metadata": {},
   "outputs": [],
   "source": [
    "# verifica estatísticas dos dados\n",
    "df.describe()"
   ]
  },
  {
   "cell_type": "code",
   "execution_count": null,
   "metadata": {},
   "outputs": [],
   "source": [
    "# Distribuição da variável alvo\n",
    "df.groupby('TARGET').size()"
   ]
  },
  {
   "cell_type": "code",
   "execution_count": null,
   "metadata": {},
   "outputs": [],
   "source": [
    "# Procura por valores nulos\n",
    "df.isnull().values.any()"
   ]
  },
  {
   "cell_type": "code",
   "execution_count": null,
   "metadata": {},
   "outputs": [],
   "source": [
    "# Normalizar os dados\n",
    "\n",
    "# Importação do módulo\n",
    "from sklearn.preprocessing import Normalizer\n",
    "\n",
    "# Separando o array em componentes de input e output\n",
    "var = df.drop('TARGET',axis=1)\n",
    "y = df['TARGET']\n",
    "\n",
    "# Gerando os dados normalizados\n",
    "scaler = Normalizer().fit(var)\n",
    "normalizedVar = scaler.transform(var)"
   ]
  },
  {
   "cell_type": "code",
   "execution_count": null,
   "metadata": {},
   "outputs": [],
   "source": [
    "# Utiliza PCA para redução de dimensionalidade\n",
    "\n",
    "# Importação do módulo\n",
    "from sklearn.decomposition import PCA\n",
    "\n",
    "# Seleção de atributos\n",
    "pca = PCA(n_components = 4)\n",
    "fit = pca.fit(normalizedVar)\n",
    "var_reduzido = pca.fit_transform(normalizedVar)"
   ]
  },
  {
   "cell_type": "code",
   "execution_count": null,
   "metadata": {},
   "outputs": [],
   "source": [
    "X = pd.DataFrame(var_reduzido)"
   ]
  },
  {
   "cell_type": "code",
   "execution_count": null,
   "metadata": {},
   "outputs": [],
   "source": [
    "# Separação dados de treino e de teste\n",
    "\n",
    "#Importação dos módulos\n",
    "from sklearn.model_selection import train_test_split\n",
    "\n",
    "# Separa 67% dos dados para treino\n",
    "X_train, X_test, y_train, y_test = train_test_split(X, y, test_size=0.33)"
   ]
  },
  {
   "cell_type": "code",
   "execution_count": null,
   "metadata": {},
   "outputs": [],
   "source": [
    "# Treina modelo com XGBoost \n",
    "\n",
    "# Importação dos módulos\n",
    "from sklearn.metrics import accuracy_score\n",
    "from xgboost import XGBClassifier\n",
    "\n",
    "# Criando o modelo\n",
    "modelo = XGBClassifier()\n",
    "\n",
    "# Treinando o modelo\n",
    "modelo.fit(X_train, y_train)\n",
    "\n",
    "# Pront do modelo\n",
    "print(modelo)\n",
    "\n",
    "# Fazendo previsões\n",
    "y_pred = modelo.predict(X_test)\n",
    "previsoes = [round(value) for value in y_pred]\n",
    "\n",
    "# Avaliando as previsões\n",
    "accuracy = accuracy_score(y_test, previsoes)\n",
    "print(\"Acurácia: %.2f%%\" % (accuracy * 100.0))"
   ]
  },
  {
   "cell_type": "markdown",
   "metadata": {},
   "source": [
    "# DUMP"
   ]
  },
  {
   "cell_type": "code",
   "execution_count": null,
   "metadata": {},
   "outputs": [],
   "source": [
    "# Cria função para balancar os dados (undersampling)\n",
    "\n",
    "import math\n",
    "\n",
    "def undersample(df, target_col, r=1):\n",
    "    falses = df[target_col].value_counts()[0]\n",
    "    trues = df[target_col].value_counts()[1]\n",
    "    relation = float(trues)/float(falses)\n",
    "    \n",
    "    if trues >= r*falses:\n",
    "        df_drop = df[df[target_col] == True]\n",
    "        drop_size = int(math.fabs(int((relation - r) * (falses))))\n",
    "    else: \n",
    "        df_drop = df[df[target_col] == False]\n",
    "        drop_size = int(math.fabs(int((r-relation) * (falses))))\n",
    "        \n",
    "    df_drop = df_drop.sample(drop_size)\n",
    "    df = df.drop(labels=df_drop.index, axis=0)\n",
    "    return df"
   ]
  },
  {
   "cell_type": "code",
   "execution_count": null,
   "metadata": {},
   "outputs": [],
   "source": [
    "# verifica os dados balanceados\n",
    "\n",
    "df2 = undersample(df, 'TARGET')\n",
    "df2.groupby('TARGET').size()"
   ]
  },
  {
   "cell_type": "code",
   "execution_count": null,
   "metadata": {},
   "outputs": [],
   "source": [
    "# importação módulos\n",
    "\n",
    "from sklearn.preprocessing import MinMaxScaler\n",
    "from sklearn.decomposition import PCA\n",
    "\n",
    "\n",
    "# Normalizando os dados\n",
    "scaler = MinMaxScaler(feature_range = (0, 1))\n",
    "rescaledX = scaler.fit_transform(X)\n",
    "\n",
    "# Seleção de atributos\n",
    "pca = PCA(n_components = 4)\n",
    "fit = pca.fit(rescaledX)\n",
    "treino_reduzido = pca.fit_transform(rescaledX)\n",
    "\n",
    "# Sumarizando os componentes\n",
    "print(\"Variância: %s\" % fit.explained_variance_ratio_)\n",
    "print(fit.components_)"
   ]
  },
  {
   "cell_type": "code",
   "execution_count": null,
   "metadata": {},
   "outputs": [],
   "source": [
    "print(treino_reduzido)"
   ]
  },
  {
   "cell_type": "code",
   "execution_count": null,
   "metadata": {},
   "outputs": [],
   "source": [
    "type(treino_reduzido)"
   ]
  }
 ],
 "metadata": {
  "kernelspec": {
   "display_name": "Python 3",
   "language": "python",
   "name": "python3"
  },
  "language_info": {
   "codemirror_mode": {
    "name": "ipython",
    "version": 3
   },
   "file_extension": ".py",
   "mimetype": "text/x-python",
   "name": "python",
   "nbconvert_exporter": "python",
   "pygments_lexer": "ipython3",
   "version": "3.7.3"
  }
 },
 "nbformat": 4,
 "nbformat_minor": 2
}
