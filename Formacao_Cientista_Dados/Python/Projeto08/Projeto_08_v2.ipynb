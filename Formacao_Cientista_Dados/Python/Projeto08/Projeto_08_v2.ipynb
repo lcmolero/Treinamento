{
 "cells": [
  {
   "cell_type": "markdown",
   "metadata": {},
   "source": [
    "# Formação Cientista de Dados - DSA"
   ]
  },
  {
   "cell_type": "markdown",
   "metadata": {},
   "source": [
    "### Machine Learning"
   ]
  },
  {
   "cell_type": "markdown",
   "metadata": {},
   "source": [
    "## Projeto com Feedback 8 - Modelagem Preditiva em IoT - Previsão de Uso de Energia"
   ]
  },
  {
   "cell_type": "markdown",
   "metadata": {},
   "source": [
    "### Leonardo Molero"
   ]
  },
  {
   "cell_type": "markdown",
   "metadata": {},
   "source": [
    "# Análise Exploratória"
   ]
  },
  {
   "cell_type": "code",
   "execution_count": null,
   "metadata": {},
   "outputs": [],
   "source": [
    "# Importação dos pacotes\n",
    "import pandas as pd\n",
    "import numpy as np\n",
    "import matplotlib.pyplot as plt\n",
    "import seaborn as sns\n",
    "import warnings\n",
    "from sklearn.preprocessing import Normalizer\n",
    "from sklearn.preprocessing import LabelEncoder\n",
    "from sklearn.ensemble import RandomForestRegressor\n",
    "from sklearn.metrics import mean_squared_error\n",
    "from sklearn.metrics import r2_score\n",
    "from sklearn.linear_model import LinearRegression\n",
    "from sklearn import svm\n",
    "from xgboost import XGBRegressor\n",
    "from sklearn.model_selection import RandomizedSearchCV\n",
    "\n",
    "# Faz ajustes para não exibir warnings\n",
    "warnings.filterwarnings(\"ignore\")\n",
    "\n",
    "# Parametriza impressão dos gráficos dentro do notebook\n",
    "%matplotlib inline\n",
    "\n",
    "# Configura fundo azul com barras brancas para os gráficos\n",
    "sns.set(color_codes=True)\n",
    "\n",
    "# Configura a exibição da borda das barras nos gráficos\n",
    "plt.rcParams[\"patch.force_edgecolor\"] = True "
   ]
  },
  {
   "cell_type": "code",
   "execution_count": null,
   "metadata": {},
   "outputs": [],
   "source": [
    "## Descrição das variáveis\n",
    "### date: Data da coleta dos dados pelos sensores (datetime)\n",
    "### Appliances: Uso de energia (em W)\n",
    "### lights: Potência de energia de eletrodomesticos na casa (em W)\n",
    "### TXX: Temperatura em um lugar da casa (em Celsius)\n",
    "### RH_XX: Umidade em um lugar da casa (em %)\n",
    "### T_out:Temperatura externa (em Celsius) \n",
    "### Press_mm_hg: Pressão externa (em mmHg)\n",
    "### RH_out: Umidade externa (em %) \n",
    "### Windspeed: Velocidade do vento (em m/s)\n",
    "### Visibility: Visibilidade (em Km)\n",
    "### Tdewpoint: Temperatura do Ponto de Orvalho (em Celsius)\n",
    "### rv1: Variável aleatória 01\n",
    "### rv2: Variável aleatória 02\n",
    "### WeekStatus: Dia útil ou final de semana (weekend ou weekday)\n",
    "### Day_of_week: Dia da semana\n",
    "### NSM: Medida do tempo (em segundos)"
   ]
  },
  {
   "cell_type": "code",
   "execution_count": null,
   "metadata": {},
   "outputs": [],
   "source": [
    "# Carrega o dados de treino e de teste usando a coluna 'date' com index\n",
    "df = pd.read_csv('dados\\projeto8-training.csv', index_col='date')\n",
    "dft = pd.read_csv('dados\\projeto8-testing.csv', index_col='date')"
   ]
  },
  {
   "cell_type": "code",
   "execution_count": null,
   "metadata": {},
   "outputs": [],
   "source": [
    "# Checa o tamanho do dataframe de treino\n",
    "print(df.shape)"
   ]
  },
  {
   "cell_type": "code",
   "execution_count": null,
   "metadata": {},
   "outputs": [],
   "source": [
    "# Checa o tamanho do dataframe de teste\n",
    "print(dft.shape)"
   ]
  },
  {
   "cell_type": "code",
   "execution_count": null,
   "metadata": {},
   "outputs": [],
   "source": [
    "# Visualiza os dados treino\n",
    "df.head(10)"
   ]
  },
  {
   "cell_type": "code",
   "execution_count": null,
   "metadata": {},
   "outputs": [],
   "source": [
    "# Verifica os tipos das colunas\n",
    "df.dtypes"
   ]
  },
  {
   "cell_type": "code",
   "execution_count": null,
   "metadata": {},
   "outputs": [],
   "source": [
    "# Verifica os tipos de colunas agrupados (devido a quantidade de colunas)\n",
    "df.dtypes.value_counts()"
   ]
  },
  {
   "cell_type": "code",
   "execution_count": null,
   "metadata": {},
   "outputs": [],
   "source": [
    "# Verifica estatísticas dos dados\n",
    "df.describe()"
   ]
  },
  {
   "cell_type": "code",
   "execution_count": null,
   "metadata": {},
   "outputs": [],
   "source": [
    "# Verifica a distribuição da variável alvo\n",
    "df['Appliances'].value_counts()"
   ]
  },
  {
   "cell_type": "code",
   "execution_count": null,
   "metadata": {},
   "outputs": [],
   "source": [
    "# Histograma com a distribuição da variável alvo\n",
    "fig,ax = plt.subplots(figsize=(12,6))\n",
    "plt.hist('Appliances',data=df,bins=30)\n",
    "plt.show()"
   ]
  },
  {
   "cell_type": "code",
   "execution_count": null,
   "metadata": {},
   "outputs": [],
   "source": [
    "# Histograma com a distribuição da variável 'lights'\n",
    "fig,ax = plt.subplots(figsize=(12,6))\n",
    "plt.hist('lights',data=df, bins=4)\n",
    "plt.show()"
   ]
  },
  {
   "cell_type": "code",
   "execution_count": null,
   "metadata": {},
   "outputs": [],
   "source": [
    "# Histograma com a distribuição da variável 'NSM'\n",
    "fig,ax = plt.subplots(figsize=(12,6))\n",
    "plt.hist('NSM',data=df, bins=30)\n",
    "plt.show()"
   ]
  },
  {
   "cell_type": "code",
   "execution_count": null,
   "metadata": {},
   "outputs": [],
   "source": [
    "# Distribuição dos do tipo de dia da semana\n",
    "df['WeekStatus'].value_counts()"
   ]
  },
  {
   "cell_type": "code",
   "execution_count": null,
   "metadata": {},
   "outputs": [],
   "source": [
    "# Verifica a variável alvo por tipo de dia da semana\n",
    "fig, ax = plt.subplots(figsize=(10,5))\n",
    "sns.boxplot(x='WeekStatus', y='Appliances',data=df)\n",
    "ax.xaxis.set_label_text(\"Tipo de Dia da Semana\",fontdict= {'size':14})\n",
    "ax.yaxis.set_label_text(\"Appliances\",fontdict= {'size':14})\n",
    "plt.show()"
   ]
  },
  {
   "cell_type": "code",
   "execution_count": null,
   "metadata": {},
   "outputs": [],
   "source": [
    "# Distribuição dos dias da semana\n",
    "df['Day_of_week'].value_counts()"
   ]
  },
  {
   "cell_type": "code",
   "execution_count": null,
   "metadata": {},
   "outputs": [],
   "source": [
    "# Verifica a variável alvo por dia da semana\n",
    "fig, ax = plt.subplots(figsize=(10,5))\n",
    "sns.boxplot(x='Day_of_week', y='Appliances',data=df,order=['Sunday','Monday','Tuesday',\n",
    "                                                           'Wednesday','Thursday','Friday','Saturday'])\n",
    "ax.xaxis.set_label_text(\"Dia da Semana\",fontdict= {'size':14})\n",
    "ax.yaxis.set_label_text(\"Appliances\",fontdict= {'size':14})\n",
    "plt.show()"
   ]
  },
  {
   "cell_type": "code",
   "execution_count": null,
   "metadata": {},
   "outputs": [],
   "source": [
    "# Procura e localiza valores nulos\n",
    "print(df.isnull().values.any())\n",
    "fig, ax = plt.subplots(figsize=(14,6))\n",
    "sns.heatmap(df.isnull(),yticklabels=False,cbar=False,cmap='viridis')"
   ]
  },
  {
   "cell_type": "markdown",
   "metadata": {},
   "source": [
    "# Pré-processamento"
   ]
  },
  {
   "cell_type": "code",
   "execution_count": null,
   "metadata": {},
   "outputs": [],
   "source": [
    "# Verifica a correlação das variáveis numéricas\n",
    "fig,ax = plt.subplots(figsize=(18,12))\n",
    "sns.heatmap(df.corr(),annot=True,cmap='viridis')"
   ]
  },
  {
   "cell_type": "code",
   "execution_count": null,
   "metadata": {},
   "outputs": [],
   "source": [
    "# Transforma as varíaveis texto em marcações numéricas\n",
    "le = LabelEncoder()\n",
    "le.fit(df['WeekStatus'])\n",
    "df['WeekStatus'] = le.transform(df['WeekStatus'])\n",
    "le.fit(df['Day_of_week'])\n",
    "df['Day_of_week'] = le.transform(df['Day_of_week'])"
   ]
  },
  {
   "cell_type": "code",
   "execution_count": null,
   "metadata": {},
   "outputs": [],
   "source": [
    "# Separa as variáveis preditoras da varíavel alvo\n",
    "x = df.drop(['Appliances'],axis=1)\n",
    "y = df['Appliances']"
   ]
  },
  {
   "cell_type": "code",
   "execution_count": null,
   "metadata": {},
   "outputs": [],
   "source": [
    "# Cria um modelo de RandomFlorest para verificar a importância das variáveis preditoras\n",
    "rf = RandomForestRegressor(n_estimators=100)\n",
    "rf.fit(x,y)"
   ]
  },
  {
   "cell_type": "code",
   "execution_count": null,
   "metadata": {},
   "outputs": [],
   "source": [
    "# Extraindo a importância do modelo Random Florest\n",
    "importances = rf.feature_importances_\n",
    "indices = np.argsort(importances)"
   ]
  },
  {
   "cell_type": "code",
   "execution_count": null,
   "metadata": {},
   "outputs": [],
   "source": [
    "# Obtém os índices dos modelo\n",
    "ind=[]\n",
    "for i in indices:\n",
    "    ind.append(x.columns[i])"
   ]
  },
  {
   "cell_type": "code",
   "execution_count": null,
   "metadata": {},
   "outputs": [],
   "source": [
    "# Plot da Importância dos Atributos\n",
    "fig,ax = plt.subplots(figsize=(10,7))\n",
    "plt.barh(range(len(indices)), importances[indices])\n",
    "plt.xlabel('Importância')\n",
    "plt.ylabel('Atributos')\n",
    "plt.xticks(np.arange(0,max(importances[indices]), step=0.02))\n",
    "plt.yticks(range(len(indices)),ind)\n",
    "plt.show()"
   ]
  },
  {
   "cell_type": "code",
   "execution_count": null,
   "metadata": {},
   "outputs": [],
   "source": [
    "# Seleciona as variáveis de treino com a importâcia igual ou superior a 0.02 para compor os modelos\n",
    "col_temp = pd.DataFrame({'coluna':ind,'indice':importances[indices]})\n",
    "cols = np.array(col_temp.coluna[col_temp['indice']>=0.02])\n",
    "X = df[cols]\n",
    "X.head()"
   ]
  },
  {
   "cell_type": "code",
   "execution_count": null,
   "metadata": {},
   "outputs": [],
   "source": [
    "# Seleciona as variáveis de teste com a importâcia igual ou superior a 0.02 para compor os modelos\n",
    "Xt = dft[cols]\n",
    "yt = dft['Appliances']\n",
    "Xt.head()"
   ]
  },
  {
   "cell_type": "code",
   "execution_count": null,
   "metadata": {},
   "outputs": [],
   "source": [
    "# Treina Modelo 01 Regressão Linear Múltipla\n",
    "modelo_1 = LinearRegression()\n",
    "modelo_1.fit(X,y)\n",
    "y_pred = modelo_1.predict(X)\n",
    "previsao = modelo_1.predict(Xt)\n",
    "print(\"R^2  dados treino:\", r2_score(y,y_pred))\n",
    "print(\"RMSE dados treino:\", np.sqrt(mean_squared_error(y,y_pred)))\n",
    "print('\\n')\n",
    "print(\"R^2  dados teste:\", r2_score(yt,previsao))\n",
    "print(\"RMSE dados teste:\", np.sqrt(mean_squared_error(yt,previsao)))"
   ]
  },
  {
   "cell_type": "code",
   "execution_count": null,
   "metadata": {},
   "outputs": [],
   "source": [
    "# Treina Modelo 02 com SVM\n",
    "modelo_2 = svm.SVR()\n",
    "modelo_2.fit(X,y)\n",
    "y_pred = modelo_2.predict(X)\n",
    "previsao = modelo_2.predict(Xt)\n",
    "print(\"R^2  dados treino:\", r2_score(y,y_pred))\n",
    "print(\"RMSE dados treino:\", np.sqrt(mean_squared_error(y,y_pred)))\n",
    "print('\\n')\n",
    "print(\"R^2  dados teste:\", r2_score(yt,previsao))\n",
    "print(\"RMSE dados teste:\", np.sqrt(mean_squared_error(yt,previsao)))"
   ]
  },
  {
   "cell_type": "code",
   "execution_count": null,
   "metadata": {},
   "outputs": [],
   "source": [
    "# Treina Modelo 03 com XGBoost \n",
    "modelo_3 = XGBRegressor(objective='reg:squarederror')\n",
    "modelo_3.fit(X,y)\n",
    "y_pred = modelo_3.predict(X)\n",
    "previsao = modelo_3.predict(Xt)\n",
    "print(\"R^2  dados treino:\", r2_score(y,y_pred))\n",
    "print(\"RMSE dados treino:\", np.sqrt(mean_squared_error(y,y_pred)))\n",
    "print('\\n')\n",
    "print(\"R^2  dados teste:\", r2_score(yt,previsao))\n",
    "print(\"RMSE dados teste:\", np.sqrt(mean_squared_error(yt,previsao)))"
   ]
  },
  {
   "cell_type": "markdown",
   "metadata": {},
   "source": [
    "# Modelo Preditivo\n",
    "### Otimização do modelo com XGBoost que apresentou o melhor RMSE"
   ]
  },
  {
   "cell_type": "code",
   "execution_count": null,
   "metadata": {},
   "outputs": [],
   "source": [
    "# Normaliza as variáveis preditoras para tentar melhorar a acurácia do modelo\n",
    "scaler = Normalizer().fit(X)\n",
    "xn = scaler.transform(X)\n",
    "X = pd.DataFrame(xn,columns=[cols])\n",
    "X.head()"
   ]
  },
  {
   "cell_type": "code",
   "execution_count": null,
   "metadata": {},
   "outputs": [],
   "source": [
    "scaler = Normalizer().fit(Xt)\n",
    "xnt = scaler.transform(Xt)\n",
    "Xt = pd.DataFrame(xnt,columns=[cols])\n",
    "Xt.head()"
   ]
  },
  {
   "cell_type": "code",
   "execution_count": null,
   "metadata": {},
   "outputs": [],
   "source": [
    "# Treina Modelo 04 com XGBoost e dados normalizados\n",
    "modelo_4 = XGBRegressor(objective='reg:squarederror', n_jobs=-1)\n",
    "modelo_4.fit(X,y)\n",
    "y_pred = modelo_4.predict(X)\n",
    "previsao = modelo_4.predict(Xt)\n",
    "print(\"R^2  dados treino:\", r2_score(y,y_pred))\n",
    "print(\"MSE  dados treino:\", np.sqrt(mean_squared_error(y,y_pred)))\n",
    "print('\\n')\n",
    "print(\"R^2  dados teste:\", r2_score(yt,previsao))\n",
    "print(\"MSE  dados teste:\", np.sqrt(mean_squared_error(yt,previsao)))"
   ]
  },
  {
   "cell_type": "code",
   "execution_count": null,
   "metadata": {},
   "outputs": [],
   "source": [
    "# Tenta melhorar o modelo com o RandomizedSearchCV\n",
    "modelo_5 = XGBRegressor(objective='reg:squarederror', n_jobs=-1) \n",
    "params = {'min_child_weight':[4,5], 'gamma':[i/10.0 for i in range(3,6)],'subsample':[i/10.0 for i in range(6,11)],\n",
    "'colsample_bytree':[i/10.0 for i in range(6,11)], 'max_depth': [2,3,4]}\n",
    "n_iter_search = 20\n",
    "random_search = RandomizedSearchCV(modelo_5, param_distributions=params,n_iter=n_iter_search)\n",
    "random_search.fit(X,y)"
   ]
  },
  {
   "cell_type": "code",
   "execution_count": null,
   "metadata": {},
   "outputs": [],
   "source": [
    "# Cria função para exibir relatório com os três melhores resultados do RandomizedSearchCV\n",
    "def relatorio(results, n_top=3):\n",
    "    for i in range(1, n_top + 1):\n",
    "        candidates = np.flatnonzero(results['rank_test_score'] == i)\n",
    "        for candidate in candidates:\n",
    "            print(\"Model with rank: {0}\".format(i))\n",
    "            print(\"Mean validation score: {0:.3f} (std: {1:.3f})\".format(\n",
    "                  results['mean_test_score'][candidate],\n",
    "                  results['std_test_score'][candidate]))\n",
    "            print(\"Parameters: {0}\".format(results['params'][candidate]))\n",
    "            print(\"\")"
   ]
  },
  {
   "cell_type": "code",
   "execution_count": null,
   "metadata": {},
   "outputs": [],
   "source": [
    "# Exibe o relatório com o resultado do RandomizedSearchCV\n",
    "relatorio(random_search.cv_results_)"
   ]
  },
  {
   "cell_type": "code",
   "execution_count": null,
   "metadata": {},
   "outputs": [],
   "source": [
    "# Faz previsões com o melhor modelo\n",
    "y_pred = random_search.best_estimator_.predict(X)\n",
    "previsao = random_search.best_estimator_.predict(Xt)\n",
    "print(\"R^2  dados treino:\", r2_score(y,y_pred))\n",
    "print(\"MSE  dados treino:\", np.sqrt(mean_squared_error(y,y_pred)))\n",
    "print('\\n')\n",
    "print(\"R^2  dados teste:\", r2_score(yt,previsao))\n",
    "print(\"MSE  dados teste:\", np.sqrt(mean_squared_error(yt,previsao)))"
   ]
  },
  {
   "cell_type": "code",
   "execution_count": null,
   "metadata": {},
   "outputs": [],
   "source": [
    "# Houve piora no modelo mesmo com a aplicação de normalização e refinamento dos paramêtros\n",
    "# Pode ter sido causado pela alta quantidade de outliers detectados na variável alvo\n",
    "# Plota os outliers da variável alvo\n",
    "fig,ax = plt.subplots(1,2,figsize=(12,10))\n",
    "sns.boxplot(df['Appliances'], orient='v', ax=ax[0])\n",
    "sns.boxplot(dft['Appliances'], orient='v', ax=ax[1])\n",
    "plt.show()"
   ]
  },
  {
   "cell_type": "code",
   "execution_count": null,
   "metadata": {},
   "outputs": [],
   "source": [
    "# Calcula o intervalo interquartil para filtrar os outliers dos dados de treino\n",
    "Q1 = df['Appliances'].quantile(0.25)\n",
    "Q3 = df['Appliances'].quantile(0.75)\n",
    "IIQ = Q3 - Q1\n",
    "filtra_outlier = (df['Appliances'] >= Q1 - 1.5 * IIQ) & (df['Appliances'] <= Q3 + 1.5 * IIQ)\n",
    "df = df.loc[filtra_outlier]\n",
    "print(df.shape)"
   ]
  },
  {
   "cell_type": "code",
   "execution_count": null,
   "metadata": {},
   "outputs": [],
   "source": [
    "# Calcula o intervalo interquartil para filtrar os outliers dos dados de teste\n",
    "Q1 = dft['Appliances'].quantile(0.25)\n",
    "Q3 = dft['Appliances'].quantile(0.75)\n",
    "IIQ = Q3 - Q1\n",
    "filtra_outlier = (dft['Appliances'] >= Q1 - 1.5 * IIQ) & (dft['Appliances'] <= Q3 + 1.5 * IIQ)\n",
    "dft = dft.loc[filtra_outlier]\n",
    "print(dft.shape)"
   ]
  },
  {
   "cell_type": "code",
   "execution_count": null,
   "metadata": {},
   "outputs": [],
   "source": [
    "# Separa novamente as variáveis preditoras e varíavel alvo\n",
    "X = df[cols]\n",
    "y = df['Appliances']\n",
    "Xt = dft[cols]\n",
    "yt = dft['Appliances']"
   ]
  },
  {
   "cell_type": "code",
   "execution_count": null,
   "metadata": {},
   "outputs": [],
   "source": [
    "# Novo teste de paramêtros do modelo XGBoost com o RandomizedSearchCV\n",
    "modelo_6 = XGBRegressor(objective='reg:squarederror', n_jobs=-1) \n",
    "params = {'min_child_weight':[4,5], 'gamma':[i/10.0 for i in range(3,6)],'subsample':[i/10.0 for i in range(6,11)],\n",
    "'colsample_bytree':[i/10.0 for i in range(6,11)], 'max_depth': [2,3,4]}\n",
    "n_iter_search = 20\n",
    "random_search = RandomizedSearchCV(modelo_6, param_distributions=params,n_iter=n_iter_search)\n",
    "random_search.fit(X,y)"
   ]
  },
  {
   "cell_type": "code",
   "execution_count": null,
   "metadata": {},
   "outputs": [],
   "source": [
    "# Faz previsões com o melhor modelo\n",
    "y_pred = random_search.best_estimator_.predict(X)\n",
    "previsao = random_search.best_estimator_.predict(Xt)\n",
    "print(\"R^2  dados treino:\", r2_score(y,y_pred))\n",
    "print(\"RMSE dados treino:\", np.sqrt(mean_squared_error(y,y_pred)))\n",
    "print('\\n')\n",
    "print(\"R^2  dados teste:\", r2_score(yt,previsao))\n",
    "print(\"RMSE dados teste:\", np.sqrt(mean_squared_error(yt,previsao)))"
   ]
  },
  {
   "cell_type": "markdown",
   "metadata": {},
   "source": [
    "# Melhor Modelo XGBoost com os outliers da variável alvo removidos"
   ]
  },
  {
   "cell_type": "code",
   "execution_count": null,
   "metadata": {},
   "outputs": [],
   "source": []
  }
 ],
 "metadata": {
  "kernelspec": {
   "display_name": "Python 3",
   "language": "python",
   "name": "python3"
  },
  "language_info": {
   "codemirror_mode": {
    "name": "ipython",
    "version": 3
   },
   "file_extension": ".py",
   "mimetype": "text/x-python",
   "name": "python",
   "nbconvert_exporter": "python",
   "pygments_lexer": "ipython3",
   "version": "3.7.1"
  }
 },
 "nbformat": 4,
 "nbformat_minor": 2
}
