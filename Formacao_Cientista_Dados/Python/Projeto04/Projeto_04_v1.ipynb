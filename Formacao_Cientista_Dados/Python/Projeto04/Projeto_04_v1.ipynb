{
 "cells": [
  {
   "cell_type": "markdown",
   "metadata": {},
   "source": [
    "# Formação Cientista de Dados - DSA"
   ]
  },
  {
   "cell_type": "markdown",
   "metadata": {},
   "source": [
    "### Big Data Real-Time Analytics com Python e Spark"
   ]
  },
  {
   "cell_type": "markdown",
   "metadata": {},
   "source": [
    "## Projeto com Feedback 4 - Prevendo Customer Churn em Operadoras de Telecom"
   ]
  },
  {
   "cell_type": "markdown",
   "metadata": {},
   "source": [
    "### Leonardo Molero"
   ]
  },
  {
   "cell_type": "markdown",
   "metadata": {},
   "source": [
    "# Análise Exploratória"
   ]
  },
  {
   "cell_type": "code",
   "execution_count": null,
   "metadata": {},
   "outputs": [],
   "source": [
    "# Importação pacotes iniciais\n",
    "import pandas as pd\n",
    "import numpy as np\n",
    "import matplotlib.pyplot as plt\n",
    "import seaborn as sns\n",
    "import warnings"
   ]
  },
  {
   "cell_type": "code",
   "execution_count": null,
   "metadata": {},
   "outputs": [],
   "source": [
    "# Faz ajustes para não exibir warnings\n",
    "warnings.filterwarnings(\"ignore\")\n",
    "\n",
    "# Parametriza impressão dos gráficos dentro do notebook\n",
    "%matplotlib inline"
   ]
  },
  {
   "cell_type": "code",
   "execution_count": null,
   "metadata": {},
   "outputs": [],
   "source": [
    "# Carrega o dados de treino colocando a primeira coluna como index\n",
    "df = pd.read_csv('dados/projeto4_telecom_treino.csv',index_col=[0])"
   ]
  },
  {
   "cell_type": "code",
   "execution_count": null,
   "metadata": {},
   "outputs": [],
   "source": [
    "# Checa o tamanho do dataframe\n",
    "print(df.shape)"
   ]
  },
  {
   "cell_type": "code",
   "execution_count": null,
   "metadata": {},
   "outputs": [],
   "source": [
    "# Visualiza os dados treino\n",
    "df.head(10)"
   ]
  },
  {
   "cell_type": "code",
   "execution_count": null,
   "metadata": {},
   "outputs": [],
   "source": [
    "# Verifica os tipos das colunas\n",
    "df.dtypes"
   ]
  },
  {
   "cell_type": "code",
   "execution_count": null,
   "metadata": {},
   "outputs": [],
   "source": [
    "# Verifica estatísticas das colunas numéricas\n",
    "df.describe()"
   ]
  },
  {
   "cell_type": "code",
   "execution_count": null,
   "metadata": {},
   "outputs": [],
   "source": [
    "# Distribuição da variável alvo\n",
    "df.groupby('churn').size()"
   ]
  },
  {
   "cell_type": "code",
   "execution_count": null,
   "metadata": {},
   "outputs": [],
   "source": [
    "# Plota a distribuição da variável alvo\n",
    "sns.countplot(x='churn',data=df,palette=\"Blues\")"
   ]
  },
  {
   "cell_type": "code",
   "execution_count": null,
   "metadata": {},
   "outputs": [],
   "source": [
    "# Verifica variáveis tipo texto \n",
    "print(df.groupby('area_code').size())\n",
    "print(df.groupby('international_plan').size())\n",
    "print(df.groupby('voice_mail_plan').size())"
   ]
  },
  {
   "cell_type": "code",
   "execution_count": null,
   "metadata": {},
   "outputs": [],
   "source": [
    "# Plota um gráfico de relação de todas as variáveis do dataset\n",
    "sns.pairplot(df, hue='churn')"
   ]
  },
  {
   "cell_type": "code",
   "execution_count": null,
   "metadata": {},
   "outputs": [],
   "source": [
    "# Verifica distribuição das variáveis numéricas\n",
    "df.hist(figsize=(12, 8),layout=(3,5))\n",
    "plt.show()"
   ]
  },
  {
   "cell_type": "code",
   "execution_count": null,
   "metadata": {},
   "outputs": [],
   "source": [
    "# Verifica os gastos de ligação / horário por estado\n",
    "\n",
    "f, ax = plt.subplots(figsize=(7, 15))\n",
    "\n",
    "sns.set_color_codes(\"pastel\")\n",
    "sns.barplot(x=\"total_day_charge\", y=\"state\", data=df,\n",
    "            label=\"Dia\", color=\"b\")\n",
    "\n",
    "\n",
    "sns.set_color_codes(\"muted\")\n",
    "sns.barplot(x=\"total_eve_charge\", y=\"state\", data=df,\n",
    "            label=\"Tarde\", color=\"b\")\n",
    "\n",
    "sns.set_color_codes(\"dark\")\n",
    "sns.barplot(x=\"total_night_charge\", y=\"state\", data=df,\n",
    "            label=\"Noite\", color=\"b\")\n",
    "\n",
    "sns.set_color_codes(\"colorblind\")\n",
    "sns.barplot(x=\"total_intl_charge\", y=\"state\", data=df,\n",
    "            label=\"Interurbano\", color=\"b\")\n",
    "\n",
    "plt.legend(bbox_to_anchor=(1.05, 1), loc=2, borderaxespad=0.)\n",
    "ax.set(xlabel=\"Gastos Ligação por Horário\")\n",
    "sns.despine(left=True, bottom=True)"
   ]
  },
  {
   "cell_type": "code",
   "execution_count": null,
   "metadata": {},
   "outputs": [],
   "source": [
    "# # Ligações para atendimento ao consumidor por estado\n",
    "f, ax = plt.subplots(figsize=(16, 8))\n",
    "sns.lineplot(x='state',y='number_customer_service_calls',data=df)"
   ]
  },
  {
   "cell_type": "code",
   "execution_count": null,
   "metadata": {},
   "outputs": [],
   "source": [
    "# Ligações para atendimento ao consumidor X rotatividade\n",
    "sns.boxplot(y='number_customer_service_calls',x='churn',data=df)"
   ]
  },
  {
   "cell_type": "code",
   "execution_count": null,
   "metadata": {},
   "outputs": [],
   "source": [
    "# Verifica a correlação das variáveis numéricas\n",
    "fig,ax = plt.subplots(figsize=(12,8))\n",
    "sns.heatmap(df.corr(),annot=True,cmap='viridis')"
   ]
  },
  {
   "cell_type": "code",
   "execution_count": null,
   "metadata": {},
   "outputs": [],
   "source": [
    "# Procura por valores nulos\n",
    "df.isnull().values.any()"
   ]
  },
  {
   "cell_type": "markdown",
   "metadata": {},
   "source": [
    "# Tratamento dos Dados"
   ]
  },
  {
   "cell_type": "code",
   "execution_count": null,
   "metadata": {},
   "outputs": [],
   "source": [
    "# Retira as varíaveis com alta correlação\n",
    "df = df.drop(['total_day_minutes','total_eve_minutes','total_night_minutes','total_intl_minutes'],axis=1)"
   ]
  },
  {
   "cell_type": "code",
   "execution_count": null,
   "metadata": {},
   "outputs": [],
   "source": [
    "# Verifica novamente a correlação das variáveis\n",
    "fig,ax = plt.subplots(figsize=(12,8))\n",
    "sns.heatmap(df.corr(),annot=True,cmap='viridis')"
   ]
  },
  {
   "cell_type": "code",
   "execution_count": null,
   "metadata": {},
   "outputs": [],
   "source": [
    "# Converte a variável alvo para númerica (0 e 1)\n",
    "\n",
    "# Cria função para substituir varíaveis \"Sim\" e \"Não\" por 1 e 0\n",
    "def binar(x):\n",
    "    if x == 'yes':\n",
    "        return 1\n",
    "    else:\n",
    "        return 0\n",
    "\n",
    "# Aplica função na coluna alvo\n",
    "df['churn'] = df['churn'].apply(binar)"
   ]
  },
  {
   "cell_type": "code",
   "execution_count": null,
   "metadata": {},
   "outputs": [],
   "source": [
    "# Converte demais variáveis de sim e não para numérica (1 e 0)\n",
    "df['international_plan'] = df['international_plan'].apply(binar)\n",
    "df['voice_mail_plan'] = df['voice_mail_plan'].apply(binar)"
   ]
  },
  {
   "cell_type": "code",
   "execution_count": null,
   "metadata": {},
   "outputs": [],
   "source": [
    "# Verifica a importância das variáveis com o RandomFlorest\n",
    "\n",
    "from sklearn.ensemble import RandomForestClassifier\n",
    "\n",
    "rfc = RandomForestClassifier()\n",
    "\n",
    "var_n = df.drop(['churn','state','area_code'],axis=1)\n",
    "target = df['churn']\n",
    "\n",
    "rfc.fit(var_n,target)\n",
    "\n",
    "sns.barplot(x=rfc.feature_importances_, y=var_n.columns,palette=\"Blues_d\")"
   ]
  },
  {
   "cell_type": "markdown",
   "metadata": {},
   "source": [
    "# Construção do Modelo"
   ]
  },
  {
   "cell_type": "code",
   "execution_count": null,
   "metadata": {},
   "outputs": [],
   "source": [
    "# Cria os datasets de variáveis / alvo\n",
    "# Serão descartadas as varíaveis não numéricas \"state\" e \"area_code\"\n",
    "# Serão descartadas as varíaveis numéricas \"voice_mail_plan\" e \"number_vmail_messages\" (baixa importância)\n",
    "\n",
    "X = df.drop(['churn','state','area_code','voice_mail_plan','number_vmail_messages'],axis=1)\n",
    "y = df['churn']"
   ]
  },
  {
   "cell_type": "code",
   "execution_count": null,
   "metadata": {},
   "outputs": [],
   "source": [
    "# Treina Modelo Regressão Logística\n",
    "\n",
    "# Importação dos módulos\n",
    "from sklearn.model_selection import KFold\n",
    "from sklearn.model_selection import cross_val_score\n",
    "from sklearn.linear_model import LogisticRegression\n",
    "\n",
    "# Definindo os valores para o número de folds\n",
    "num_folds = 20\n",
    "\n",
    "# Separando os dados em folds\n",
    "kfold = KFold(num_folds, True)\n",
    "\n",
    "# Criando o modelo\n",
    "modelo = LogisticRegression()\n",
    "\n",
    "# Cross Validation\n",
    "resultado = cross_val_score(modelo, X, y, cv = kfold)\n",
    "\n",
    "# Print do resultado\n",
    "print(\"Acurácia Modelo 1: %.3f%%\" % (resultado.mean() * 100))"
   ]
  },
  {
   "cell_type": "code",
   "execution_count": null,
   "metadata": {},
   "outputs": [],
   "source": [
    "# Treina o modelo\n",
    "modelo.fit(X,y)"
   ]
  },
  {
   "cell_type": "markdown",
   "metadata": {},
   "source": [
    "# Testa o modelo"
   ]
  },
  {
   "cell_type": "code",
   "execution_count": null,
   "metadata": {},
   "outputs": [],
   "source": [
    "# Importa dados de teste\n",
    "\n",
    "teste = pd.read_csv('dados/projeto4_telecom_teste.csv',index_col=[0])"
   ]
  },
  {
   "cell_type": "code",
   "execution_count": null,
   "metadata": {},
   "outputs": [],
   "source": [
    "# Prepara dados de teste\n",
    "\n",
    "teste = teste.drop(['total_day_minutes','total_eve_minutes','total_night_minutes','total_intl_minutes'],axis=1)\n",
    "\n",
    "teste['churn'] = teste['churn'].apply(binar)\n",
    "teste['international_plan'] = teste['international_plan'].apply(binar)"
   ]
  },
  {
   "cell_type": "code",
   "execution_count": null,
   "metadata": {},
   "outputs": [],
   "source": [
    "# Realiza as previsões\n",
    "\n",
    "var = teste.drop(['churn','state','area_code','voice_mail_plan','number_vmail_messages'],axis=1)\n",
    "alvo = teste['churn']\n",
    "\n",
    "teste_prev = modelo.predict(var)"
   ]
  },
  {
   "cell_type": "code",
   "execution_count": null,
   "metadata": {},
   "outputs": [],
   "source": [
    "# Verifica a performance do modelo nos dados de teste\n",
    "\n",
    "from sklearn.metrics import classification_report\n",
    "from sklearn.metrics import confusion_matrix\n",
    "\n",
    "report = classification_report(alvo, teste_prev)\n",
    "matrix = confusion_matrix(alvo, teste_prev)\n",
    "\n",
    "print(report)\n",
    "print('\\n')\n",
    "print(matrix)"
   ]
  }
 ],
 "metadata": {
  "kernelspec": {
   "display_name": "Python 3",
   "language": "python",
   "name": "python3"
  },
  "language_info": {
   "codemirror_mode": {
    "name": "ipython",
    "version": 3
   },
   "file_extension": ".py",
   "mimetype": "text/x-python",
   "name": "python",
   "nbconvert_exporter": "python",
   "pygments_lexer": "ipython3",
   "version": "3.7.3"
  }
 },
 "nbformat": 4,
 "nbformat_minor": 2
}
